{
 "metadata": {
  "language_info": {
   "codemirror_mode": {
    "name": "ipython",
    "version": 3
   },
   "file_extension": ".py",
   "mimetype": "text/x-python",
   "name": "python",
   "nbconvert_exporter": "python",
   "pygments_lexer": "ipython3",
   "version": "3.8.5-final"
  },
  "orig_nbformat": 2,
  "kernelspec": {
   "name": "python3",
   "display_name": "Python 3.8.5 64-bit (conda)",
   "metadata": {
    "interpreter": {
     "hash": "b3ba2566441a7c06988d0923437866b63cedc61552a5af99d1f4fb67d367b25f"
    }
   }
  }
 },
 "nbformat": 4,
 "nbformat_minor": 2,
 "cells": [
  {
   "cell_type": "code",
   "execution_count": 6,
   "metadata": {},
   "outputs": [],
   "source": [
    "import urllib.request as url\n",
    "import json\n",
    "\n",
    "web = url.urlopen('https://api.telegram.org/bot1613257202:AAHxxC2TPh_PcbOnoe6Csoh2GQkflgQBpbg/getUpdates').read()\n",
    "\n",
    "import pandas as pd"
   ]
  },
  {
   "cell_type": "code",
   "execution_count": 11,
   "metadata": {},
   "outputs": [
    {
     "output_type": "execute_result",
     "data": {
      "text/plain": [
       "{'ok': True,\n",
       " 'result': [{'update_id': 181098244,\n",
       "   'message': {'message_id': 10,\n",
       "    'from': {'id': 630161013,\n",
       "     'is_bot': False,\n",
       "     'first_name': 'Akash',\n",
       "     'last_name': 'Papnai',\n",
       "     'username': 'XO1BD',\n",
       "     'language_code': 'en'},\n",
       "    'chat': {'id': 630161013,\n",
       "     'first_name': 'Akash',\n",
       "     'last_name': 'Papnai',\n",
       "     'username': 'XO1BD',\n",
       "     'type': 'private'},\n",
       "    'date': 1614936434,\n",
       "    'text': 'Hey there'}}]}"
      ]
     },
     "metadata": {},
     "execution_count": 11
    }
   ],
   "source": [
    "json.loads(web.decode('utf-8'))"
   ]
  },
  {
   "cell_type": "code",
   "execution_count": null,
   "metadata": {},
   "outputs": [],
   "source": []
  }
 ]
}